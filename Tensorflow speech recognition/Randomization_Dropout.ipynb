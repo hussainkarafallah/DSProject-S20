{
  "nbformat": 4,
  "nbformat_minor": 0,
  "metadata": {
    "colab": {
      "name": "Randomization Dropout.ipynb",
      "provenance": []
    },
    "kernelspec": {
      "name": "python3",
      "display_name": "Python 3"
    },
    "accelerator": "GPU"
  },
  "cells": [
    {
      "cell_type": "code",
      "metadata": {
        "id": "PFFzIr-vtwf2",
        "colab_type": "code",
        "colab": {}
      },
      "source": [
        "!pip3 install librosa==0.7\n",
        "!pip install adversarial-robustness-toolbox\n",
        "!pip install matplotlib\n",
        "!pip install tensorflow"
      ],
      "execution_count": 0,
      "outputs": []
    },
    {
      "cell_type": "code",
      "metadata": {
        "id": "wk7hw2kut1eZ",
        "colab_type": "code",
        "colab": {
          "base_uri": "https://localhost:8080/",
          "height": 131
        },
        "outputId": "982913dd-688e-4c38-afcd-b086e43d42a8"
      },
      "source": [
        "from google.colab import drive\n",
        "drive.mount('/content/drive')"
      ],
      "execution_count": 2,
      "outputs": [
        {
          "output_type": "stream",
          "text": [
            "Go to this URL in a browser: https://accounts.google.com/o/oauth2/auth?client_id=947318989803-6bn6qk8qdgf4n4g3pfee6491hc0brc4i.apps.googleusercontent.com&redirect_uri=urn%3aietf%3awg%3aoauth%3a2.0%3aoob&response_type=code&scope=email%20https%3a%2f%2fwww.googleapis.com%2fauth%2fdocs.test%20https%3a%2f%2fwww.googleapis.com%2fauth%2fdrive%20https%3a%2f%2fwww.googleapis.com%2fauth%2fdrive.photos.readonly%20https%3a%2f%2fwww.googleapis.com%2fauth%2fpeopleapi.readonly\n",
            "\n",
            "Enter your authorization code:\n",
            "··········\n",
            "Mounted at /content/drive\n"
          ],
          "name": "stdout"
        }
      ]
    },
    {
      "cell_type": "code",
      "metadata": {
        "id": "fzk-XVpeuC3c",
        "colab_type": "code",
        "colab": {}
      },
      "source": [
        "import pandas as pd\n",
        "import numpy as np\n",
        "import glob\n",
        "import scipy\n",
        "import matplotlib.pyplot as plt\n",
        "import re\n",
        "import os\n",
        "from scipy.io import wavfile\n",
        "import librosa\n",
        "import IPython.display as ipd\n",
        "import librosa.display\n",
        "%matplotlib inline\n",
        "import tensorflow as tf\n",
        "import tensorflow.keras as keras\n",
        "import art\n",
        "import random\n",
        "\n",
        "from art.attacks.evasion import FastGradientMethod \n",
        "from art.metrics import empirical_robustness\n",
        "from art.metrics import clever_u\n",
        "from art.attacks.evasion import SaliencyMapMethod\n",
        "from art.attacks.evasion import DeepFool\n",
        "from art.utils import to_categorical as one_hot\n",
        "from art.metrics import loss_sensitivity as loss_sens\n",
        "from art.utils import second_most_likely_class as snd_likely\n",
        "from art.defences.transformer import DefensiveDistillation\n",
        "from art.defences.trainer import AdversarialTrainer as AdvTrainer\n",
        "import matplotlib.pyplot as plt\n",
        "\n"
      ],
      "execution_count": 0,
      "outputs": []
    },
    {
      "cell_type": "code",
      "metadata": {
        "id": "_JVg72i2uILf",
        "colab_type": "code",
        "colab": {
          "base_uri": "https://localhost:8080/",
          "height": 36
        },
        "outputId": "8f8e9d76-3caf-4fdc-f38d-4d7509568a31"
      },
      "source": [
        "#train_df = pd.read_pickle('./drive/My Drive/adver/train_df_dec10.pkl')\n",
        "#val_df = pd.read_pickle('./drive/My Drive/adver/valid_df_dec10.pkl')\n",
        "x_train = np.load('./drive/My Drive/adver/x_train_vec_dec10.npy')\n",
        "y_train = np.load('./drive/My Drive/adver/y_train_vec_dec10.npy')\n",
        "x_test = np.load('./drive/My Drive/adver/x_test_vec_dec10.npy')\n",
        "y_test = np.load('./drive/My Drive/adver/y_test_vec_dec10.npy')\n",
        "print(x_train[0].shape)\n",
        "\n",
        "def standardize(x , x_t):\n",
        "  mean = np.mean(x , axis = 0 , keepdims = True)\n",
        "  sd = np.std(x , axis = 0 , keepdims = True)\n",
        "  return (x - mean)/sd , (x_t - mean)/sd\n",
        "\n",
        "#x_train , x_test = standardize(x_train , x_test)\n"
      ],
      "execution_count": 5,
      "outputs": [
        {
          "output_type": "stream",
          "text": [
            "(128, 32, 1)\n"
          ],
          "name": "stdout"
        }
      ]
    },
    {
      "cell_type": "markdown",
      "metadata": {
        "id": "2W7kCtyGvwkx",
        "colab_type": "text"
      },
      "source": [
        "## MISC Functions"
      ]
    },
    {
      "cell_type": "code",
      "metadata": {
        "id": "EoPpXXERvvRK",
        "colab_type": "code",
        "colab": {
          "base_uri": "https://localhost:8080/",
          "height": 36
        },
        "outputId": "c51a3949-468c-48ab-a081-a0ba8296a317"
      },
      "source": [
        "POSSIBLE_LABELS = 'yes no up down left right on off stop go unknown silence'.split(' ')\n",
        "print(POSSIBLE_LABELS)\n",
        "id2name = {i: name for i, name in enumerate(POSSIBLE_LABELS)}\n",
        "name2id = {name: i for i, name in id2name.items()}\n",
        "\n",
        "def get_class_weight(y):\n",
        "  ind, counts = np.unique(y, return_counts=True)\n",
        "  class_weight = {i: count for i, count in zip(ind, counts)}\n",
        "  class_weight = {ind: len(y)/val for ind, val in class_weight.items()}\n",
        "  return class_weight\n",
        "\n",
        "num_labels = 12\n",
        "\n",
        "def model_cloner(src):\n",
        "  model_copy= init_empty_model()\n",
        "  model_copy.set_weights(src.get_weights())\n",
        "  return model_copy\n",
        "\n",
        "from sklearn.metrics import accuracy_score\n",
        "\n",
        "def eval(cls , x , y):\n",
        "  _p = cls.predict(x)\n",
        "  y_pred = np.argmax(_p , axis = 1)\n",
        "  return accuracy_score(y_pred , y)\n",
        "\n",
        "def random_samplenp(x , y , sz):\n",
        "  perm = np.random.permutation(len(x))\n",
        "  xp = x[perm]\n",
        "  yp = y[perm]\n",
        "  mn = min(sz , len(x))\n",
        "  return xp[:mn] , yp[:mn]\n",
        "\n",
        "def get_avg_conf(orig_y , adv_y):\n",
        "  ret = 0\n",
        "  indiv = []\n",
        "  for i in range(len(orig_y)):\n",
        "    idx_1 = orig_y[i].argmax()\n",
        "    idx_2 = adv_y[i].argmax()\n",
        "    if idx_1 == idx_2:\n",
        "      indiv.append(0)\n",
        "      continue\n",
        "    ret += adv_y[i][idx_2]\n",
        "    indiv.append(adv_y[i][idx_2])\n",
        "  ret /= len(orig_y)\n",
        "  return (ret,indiv)"
      ],
      "execution_count": 6,
      "outputs": [
        {
          "output_type": "stream",
          "text": [
            "['yes', 'no', 'up', 'down', 'left', 'right', 'on', 'off', 'stop', 'go', 'unknown', 'silence']\n"
          ],
          "name": "stdout"
        }
      ]
    },
    {
      "cell_type": "code",
      "metadata": {
        "id": "oQiVDMDvuJfi",
        "colab_type": "code",
        "colab": {}
      },
      "source": [
        "import keras\n",
        "from keras.layers.core import Lambda\n",
        "from keras import backend as K\n",
        "\n",
        "def PermaDropout(rate):\n",
        "    return Lambda(lambda x: K.dropout(x, level=rate))\n",
        "\n",
        "\n",
        "\n",
        "def init_randomized_model(conv_gamma , full_gamma):\n",
        "  \n",
        "  model = keras.Sequential([\n",
        "      keras.layers.InputLayer(input_shape=(128,32,1)),\n",
        "      keras.layers.Conv2D(64, kernel_size=(20,8), strides=1, padding='same', activation='relu'),\n",
        "      PermaDropout(conv_gamma),\n",
        "      keras.layers.MaxPool2D(pool_size=(2,2), padding='same'),\n",
        "      keras.layers.BatchNormalization(),\n",
        "      keras.layers.Conv2D(64, kernel_size=(10,4),\n",
        "      padding='same', activation='relu'),\n",
        "      PermaDropout(conv_gamma),\n",
        "      keras.layers.MaxPool2D(pool_size=(2,2), padding='same'),\n",
        "      keras.layers.BatchNormalization(),\n",
        "      keras.layers.Conv2D(64, kernel_size=(5,2), padding='same', activation='relu'),\n",
        "      PermaDropout(conv_gamma),\n",
        "      keras.layers.MaxPool2D(pool_size=(2,2), padding='same'),\n",
        "      keras.layers.BatchNormalization(),\n",
        "      keras.layers.Conv2D(64, kernel_size=(2,2), padding='same', activation='relu'),\n",
        "      PermaDropout(conv_gamma),\n",
        "      keras.layers.MaxPool2D(pool_size=(2,2), padding='same'),\n",
        "      keras.layers.BatchNormalization(),\n",
        "      keras.layers.Conv2D(64, kernel_size=(2,1), padding='same', activation='relu'),\n",
        "      keras.layers.MaxPool2D(pool_size=(2,2), padding='same'),\n",
        "      keras.layers.BatchNormalization(),\n",
        "      keras.layers.Flatten(),\n",
        "      keras.layers.Dense(500, activation=\"relu\"),\n",
        "      #keras.layers.Dropout(.5),\n",
        "      PermaDropout(full_gamma),\n",
        "      keras.layers.Dense(250, activation=\"relu\"),\n",
        "      #keras.layers.Dropout(.4),\n",
        "      PermaDropout(full_gamma),\n",
        "      keras.layers.Dense(num_labels, activation=\"softmax\")\n",
        "  ])\n",
        "\n",
        "  model.compile(loss='sparse_categorical_crossentropy', \n",
        "                optimizer='nadam',\n",
        "                metrics=['accuracy'])\n",
        "  return model\n",
        "\n"
      ],
      "execution_count": 0,
      "outputs": []
    },
    {
      "cell_type": "code",
      "metadata": {
        "id": "kBBF-v8NwUyS",
        "colab_type": "code",
        "colab": {}
      },
      "source": [
        "rnd_model = init_randomized_model(0.5 , 0.5)\n",
        "rnd_model.fit(x_train , y_train , epochs = 20 , batch_size = 256)"
      ],
      "execution_count": 0,
      "outputs": []
    }
  ]
}